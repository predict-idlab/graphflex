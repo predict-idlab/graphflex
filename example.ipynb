{
 "cells": [
  {
   "cell_type": "code",
   "id": "initial_id",
   "metadata": {
    "ExecuteTime": {
     "end_time": "2025-03-11T13:22:43.194271Z",
     "start_time": "2025-03-11T13:22:41.744638Z"
    }
   },
   "source": "from dgl.data import CoraGraphDataset",
   "outputs": [],
   "execution_count": 1
  },
  {
   "cell_type": "code",
   "id": "cb5ec31d023d184a",
   "metadata": {
    "ExecuteTime": {
     "end_time": "2025-03-11T13:22:43.286741Z",
     "start_time": "2025-03-11T13:22:43.203401Z"
    }
   },
   "source": [
    "dataset = CoraGraphDataset()\n",
    "nodes = dataset[0].nodes().numpy()\n",
    "labels = dataset[0].ndata[\"label\"].numpy()"
   ],
   "outputs": [
    {
     "name": "stdout",
     "output_type": "stream",
     "text": [
      "  NumNodes: 2708\n",
      "  NumEdges: 10556\n",
      "  NumFeats: 1433\n",
      "  NumClasses: 7\n",
      "  NumTrainingSamples: 140\n",
      "  NumValidationSamples: 500\n",
      "  NumTestSamples: 1000\n",
      "Done loading data from cached files.\n"
     ]
    }
   ],
   "execution_count": 2
  },
  {
   "cell_type": "code",
   "id": "f801b90c763b2d9b",
   "metadata": {
    "ExecuteTime": {
     "end_time": "2025-03-11T13:22:44.615882Z",
     "start_time": "2025-03-11T13:22:43.320414Z"
    }
   },
   "source": [
    "from graphflex import GraphFlex\n",
    "from graphflex.connectors.dgl import DGLConnector\n",
    "from graphflex.functions.postprocessing.filter import NonUniqueFeatureFilter\n",
    "from graphflex.functions.feature import MeanStdFeature\n",
    "\n",
    "dgl_connect = DGLConnector(dataset)\n",
    "gflex = GraphFlex(\n",
    "          connector=dgl_connect,\n",
    "          node_feature=MeanStdFeature(),\n",
    "          post_processor=NonUniqueFeatureFilter()\n",
    "        )"
   ],
   "outputs": [],
   "execution_count": 3
  },
  {
   "cell_type": "code",
   "id": "aaf2d773267aa954",
   "metadata": {
    "ExecuteTime": {
     "end_time": "2025-03-11T13:22:44.716419Z",
     "start_time": "2025-03-11T13:22:44.622484Z"
    }
   },
   "source": [
    "from sklearn.pipeline import Pipeline\n",
    "from sklearn.linear_model import LogisticRegression\n",
    "\n",
    "pipe = Pipeline([('graphflex', gflex), ('logreg', LogisticRegression())])"
   ],
   "outputs": [],
   "execution_count": 4
  },
  {
   "metadata": {
    "ExecuteTime": {
     "end_time": "2025-03-11T13:22:44.723950Z",
     "start_time": "2025-03-11T13:22:44.722157Z"
    }
   },
   "cell_type": "code",
   "source": [
    "from sklearn.model_selection import GridSearchCV\n",
    "param_grid = {\n",
    "    'logreg__C': [0.01, 0.1, 1, 10],\n",
    "    'graphflex__max_depth': [1, 2],  # l1 also possible with saga solver\n",
    "}\n",
    "\n",
    "grid = GridSearchCV(pipe, param_grid, cv=3, scoring='accuracy', n_jobs=4, verbose=4)"
   ],
   "id": "540cb67e29fb931e",
   "outputs": [],
   "execution_count": 5
  },
  {
   "metadata": {
    "ExecuteTime": {
     "end_time": "2025-03-11T13:26:05.046050Z",
     "start_time": "2025-03-11T13:22:44.731001Z"
    }
   },
   "cell_type": "code",
   "source": [
    "from sklearn.model_selection import train_test_split\n",
    "from sklearn.metrics import classification_report\n",
    "\n",
    "\n",
    "train_nodes, test_nodes, train_labels, test_labels = (\n",
    "    train_test_split(nodes, labels, test_size=0.2, random_state=42, stratify=labels))\n",
    "\n",
    "grid.fit(train_nodes, train_labels)\n",
    "\n",
    "print(\"Best Params:\", grid.best_params_)\n",
    "print(\"Best Score:\", grid.best_score_)\n",
    "\n",
    "\n",
    "y_pred = grid.predict(test_nodes)\n",
    "print(classification_report(test_labels, y_pred))"
   ],
   "id": "a463c92635b6d878",
   "outputs": [
    {
     "name": "stdout",
     "output_type": "stream",
     "text": [
      "Fitting 3 folds for each of 8 candidates, totalling 24 fits\n",
      "Best Params: {'graphflex__max_depth': 2, 'logreg__C': 10}\n",
      "Best Score: 0.8559556786703602\n",
      "              precision    recall  f1-score   support\n",
      "\n",
      "           0       0.73      0.77      0.75        70\n",
      "           1       0.86      0.84      0.85        43\n",
      "           2       0.92      0.92      0.92        84\n",
      "           3       0.82      0.91      0.86       164\n",
      "           4       0.95      0.86      0.90        85\n",
      "           5       0.96      0.80      0.87        60\n",
      "           6       0.91      0.83      0.87        36\n",
      "\n",
      "    accuracy                           0.86       542\n",
      "   macro avg       0.88      0.85      0.86       542\n",
      "weighted avg       0.87      0.86      0.86       542\n",
      "\n"
     ]
    }
   ],
   "execution_count": 6
  },
  {
   "cell_type": "code",
   "id": "97ede8e97056cca7",
   "metadata": {
    "ExecuteTime": {
     "end_time": "2025-03-11T13:26:05.171579Z",
     "start_time": "2025-03-11T13:26:05.169171Z"
    }
   },
   "source": "\n",
   "outputs": [],
   "execution_count": 6
  },
  {
   "cell_type": "code",
   "id": "1652cd5baf970af1",
   "metadata": {
    "ExecuteTime": {
     "end_time": "2025-03-11T13:26:05.154122Z",
     "start_time": "2025-03-11T13:26:05.151406Z"
    }
   },
   "source": [],
   "outputs": [],
   "execution_count": null
  }
 ],
 "metadata": {
  "kernelspec": {
   "display_name": "Python 3 (ipykernel)",
   "language": "python",
   "name": "python3"
  },
  "language_info": {
   "codemirror_mode": {
    "name": "ipython",
    "version": 3
   },
   "file_extension": ".py",
   "mimetype": "text/x-python",
   "name": "python",
   "nbconvert_exporter": "python",
   "pygments_lexer": "ipython3",
   "version": "3.11.4"
  }
 },
 "nbformat": 4,
 "nbformat_minor": 5
}
